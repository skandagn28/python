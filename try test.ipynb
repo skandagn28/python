{
 "cells": [
  {
   "cell_type": "code",
   "execution_count": 11,
   "metadata": {},
   "outputs": [
    {
     "name": "stdout",
     "output_type": "stream",
     "text": [
      "['1s', '2s', '3s']\n"
     ]
    }
   ],
   "source": [
    "lst=[1,2,3]\n",
    "lst6=[str(item)+\"s\" for item in lst]\n",
    "print(lst6)"
   ]
  },
  {
   "cell_type": "code",
   "execution_count": 17,
   "metadata": {},
   "outputs": [
    {
     "name": "stdout",
     "output_type": "stream",
     "text": [
      "[1, 4, 9]\n"
     ]
    }
   ],
   "source": [
    "print([item**2 for item in lst])"
   ]
  },
  {
   "cell_type": "code",
   "execution_count": 19,
   "metadata": {},
   "outputs": [
    {
     "name": "stdout",
     "output_type": "stream",
     "text": [
      "['192', '168', '1', '1']\n"
     ]
    }
   ],
   "source": [
    "def ipsplitter(s):\n",
    "    return s.split(\".\")\n",
    "print(ipsplitter(\"192.168.1.1\"));\n"
   ]
  },
  {
   "cell_type": "code",
   "execution_count": 20,
   "metadata": {},
   "outputs": [
    {
     "name": "stdout",
     "output_type": "stream",
     "text": [
      "['apple', 'orange', 'grapes', 'banana']\n"
     ]
    }
   ],
   "source": [
    "\n",
    "def fruitsplitter(s):\n",
    "    return s.split(\"#\")\n",
    "print(fruitsplitter(\"apple#orange#grapes#banana\"));\n"
   ]
  },
  {
   "cell_type": "code",
   "execution_count": 21,
   "metadata": {},
   "outputs": [
    {
     "name": "stdout",
     "output_type": "stream",
     "text": [
      "91-9789090840\n"
     ]
    }
   ],
   "source": [
    "\n",
    "\n",
    "def phonenumber(ph):\n",
    "    return ph[:2]+\"-\"+ph[2:]\n",
    "print(phonenumber(\"919789090840\"))\n",
    "\n"
   ]
  },
  {
   "cell_type": "code",
   "execution_count": null,
   "metadata": {},
   "outputs": [],
   "source": [
    "\n",
    "\n",
    "def phonenumber(ph):\n",
    "    return ph[2:]\n",
    "print(phonenumber(\"919789090840\"))\n",
    "\n"
   ]
  },
  {
   "cell_type": "code",
   "execution_count": null,
   "metadata": {},
   "outputs": [],
   "source": [
    "\n",
    "def phonenumber(ph):\n",
    "    return ph.replace(\"-\",\"\")\n",
    "print(phonenumber(\"91-9789090840\"))\n",
    "\n"
   ]
  },
  {
   "cell_type": "code",
   "execution_count": 23,
   "metadata": {},
   "outputs": [
    {
     "name": "stdout",
     "output_type": "stream",
     "text": [
      "[(3, 5, 8), (4, 5, 6), (7, 8, 9)]\n"
     ]
    }
   ],
   "source": [
    "employee=[(1,2,3),(4,5,6),(7,8,9)]\n",
    "employee[0]=(3,5,8)\n",
    "print(employee)\n",
    "\n"
   ]
  },
  {
   "cell_type": "code",
   "execution_count": 32,
   "metadata": {},
   "outputs": [
    {
     "name": "stdout",
     "output_type": "stream",
     "text": [
      "20\n",
      "dict_keys(['name', 'Age', 'city'])\n",
      "dict_values(['john', 20, 'dubai'])\n",
      "john\n"
     ]
    }
   ],
   "source": [
    "employee = {\"name\": \"john\", \"Age\":20, \"city\":\"dubai\"}\n",
    "print(employee['Age'])\n",
    "print(employee.keys())\n",
    "print(employee.values())\n",
    "print(employee.get(\"name\"))\n"
   ]
  },
  {
   "cell_type": "code",
   "execution_count": 41,
   "metadata": {},
   "outputs": [
    {
     "name": "stdout",
     "output_type": "stream",
     "text": [
      "{'pink', 'yellow', 'green', 'blue', 'black'}\n",
      "5\n"
     ]
    }
   ],
   "source": [
    "colors={\"pink\", \"yellow\", \"green\"}\n",
    "colors.update(['orange','black'])\n",
    "colors.remove('orange')\n",
    "colors.add('blue')\n",
    "print(colors)\n",
    "print(len(colors))"
   ]
  },
  {
   "cell_type": "code",
   "execution_count": 42,
   "metadata": {},
   "outputs": [
    {
     "name": "stdout",
     "output_type": "stream",
     "text": [
      "{1, 2, 3, 4, 5}\n"
     ]
    }
   ],
   "source": [
    "rep=[1,2,3,4,5,4,3,2]\n",
    "uniq=set(rep)\n",
    "print(uniq)"
   ]
  },
  {
   "cell_type": "code",
   "execution_count": 46,
   "metadata": {},
   "outputs": [
    {
     "name": "stdout",
     "output_type": "stream",
     "text": [
      "{1: 2, 4: 5}\n"
     ]
    }
   ],
   "source": [
    "tup=[(1,2),(4,5)]\n",
    "dic=dict(tup)\n",
    "print(dic)"
   ]
  },
  {
   "cell_type": "code",
   "execution_count": 53,
   "metadata": {},
   "outputs": [
    {
     "name": "stdout",
     "output_type": "stream",
     "text": [
      "Enter the name1\n",
      "1 is one\n"
     ]
    }
   ],
   "source": [
    "inp=str(input(\"Enter the name \"))\n",
    "if inp==\"1\":\n",
    "    print(\"{} is one\".format(inp))\n",
    "elif inp==\"2\":\n",
    "    print(\"{} is two\".format(inp))\n",
    "elif inp==\"3\":\n",
    "    print(\"{} is three\".format(inp))"
   ]
  },
  {
   "cell_type": "code",
   "execution_count": 58,
   "metadata": {},
   "outputs": [
    {
     "name": "stdout",
     "output_type": "stream",
     "text": [
      "c\n"
     ]
    }
   ],
   "source": [
    "a=27\n",
    "print(\"a\") if a==10 else print(\"b\") if a==20 else print(\"c\")"
   ]
  },
  {
   "cell_type": "code",
   "execution_count": 62,
   "metadata": {},
   "outputs": [
    {
     "name": "stdout",
     "output_type": "stream",
     "text": [
      "10\n",
      "20\n"
     ]
    }
   ],
   "source": [
    "i=(10,20,30)\n",
    "for j in i:\n",
    "    print(j)\n",
    "    if(j==20):\n",
    "        break;"
   ]
  },
  {
   "cell_type": "code",
   "execution_count": null,
   "metadata": {
    "scrolled": true
   },
   "outputs": [],
   "source": [
    "for i in range(1,11):\n",
    "    print()\n",
    "    for j in range(1,i):\n",
    "        print(j, end=\"   \")\n",
    "    "
   ]
  },
  {
   "cell_type": "code",
   "execution_count": 1,
   "metadata": {},
   "outputs": [
    {
     "name": "stdout",
     "output_type": "stream",
     "text": [
      "0\n",
      "1\n",
      "2\n",
      "3\n",
      "4\n",
      "unconditional man! are u fool! why are uy giving this *\n"
     ]
    }
   ],
   "source": [
    "for value in range(5):\n",
    "     print(value)\n",
    "else:\n",
    "    print(\"unconditional man! are u fool! why are uy giving this *\")"
   ]
  },
  {
   "cell_type": "code",
   "execution_count": 5,
   "metadata": {},
   "outputs": [
    {
     "name": "stdout",
     "output_type": "stream",
     "text": [
      "Enter the number12\n",
      "12x1=12\n",
      "12x2=24\n",
      "12x3=36\n",
      "12x4=48\n",
      "12x5=60\n",
      "12x6=72\n",
      "12x7=84\n",
      "12x8=96\n",
      "12x9=108\n",
      "12x10=120\n"
     ]
    }
   ],
   "source": [
    "i=1\n",
    "j=10\n",
    "num=int(input(\"Enter the number\"))\n",
    "while(i<=j):\n",
    "    print(\"{}x{}={}\".format(num,i,num*i))\n",
    "    i+=1"
   ]
  },
  {
   "cell_type": "code",
   "execution_count": 12,
   "metadata": {},
   "outputs": [
    {
     "name": "stdout",
     "output_type": "stream",
     "text": [
      "Enter the number5\n",
      "5^1=5\n",
      "5^6=15625\n",
      "5^11=48828125\n",
      "5^16=152587890625\n",
      "5^21=476837158203125\n",
      "5^26=1490116119384765625\n",
      "5^31=4656612873077392578125\n",
      "5^36=14551915228366851806640625\n",
      "5^41=45474735088646411895751953125\n",
      "5^46=142108547152020037174224853515625\n",
      "5^51=444089209850062616169452667236328125\n",
      "5^56=1387778780781445675529539585113525390625\n",
      "5^61=4336808689942017736029811203479766845703125\n",
      "5^66=13552527156068805425093160010874271392822265625\n",
      "5^71=42351647362715016953416125033982098102569580078125\n",
      "5^76=132348898008484427979425390731194056570529937744140625\n",
      "5^81=413590306276513837435704346034981426782906055450439453125\n",
      "5^86=1292469707114105741986576081359316958696581423282623291015625\n",
      "5^91=4038967834731580443708050254247865495926816947758197784423828125\n",
      "5^96=12621774483536188886587657044524579674771302961744368076324462890625\n"
     ]
    }
   ],
   "source": [
    "x=1\n",
    "y=100\n",
    "num=int(input(\"Enter the number\"))\n",
    "for i in range(x,y+1,5):\n",
    "    print(\"{}^{}={}\".format(num,i,num**i))"
   ]
  },
  {
   "cell_type": "code",
   "execution_count": 6,
   "metadata": {},
   "outputs": [
    {
     "name": "stdout",
     "output_type": "stream",
     "text": [
      "0\n",
      "1\n",
      "2\n",
      "3\n",
      "4\n",
      "Inside pass 5\n",
      "After pass 5\n",
      "5\n",
      "6\n",
      "7\n",
      "8\n",
      "9\n"
     ]
    }
   ],
   "source": [
    "for x in range(0,10):\n",
    "    if x==5:\n",
    "        print(\"Inside pass {}\".format(x))\n",
    "        pass\n",
    "        print(\"After pass {}\".format(x))\n",
    "    print(x)\n",
    "    "
   ]
  },
  {
   "cell_type": "code",
   "execution_count": 96,
   "metadata": {},
   "outputs": [
    {
     "name": "stdout",
     "output_type": "stream",
     "text": [
      "[10, 'user1', 'user2', 'user4', 15, 10.25, 'test1', 'test2', True, None]\n"
     ]
    }
   ],
   "source": [
    "l=[];\n",
    "    \n",
    "def rec(y):\n",
    "\n",
    "    for x in y:\n",
    "        if type(x) is list or type(x) is tuple or type(x) is set:\n",
    "            rec(x)\n",
    "        else:\n",
    "            l.append(x)\n",
    "    return l\n",
    "\n",
    "lst=[10,['user1','user2',{\"user4\", 15}],10.25, ('test1', 'test2'), True, None]\n",
    "print(rec(lst));\n"
   ]
  },
  {
   "cell_type": "code",
   "execution_count": 62,
   "metadata": {
    "scrolled": true
   },
   "outputs": [
    {
     "name": "stdout",
     "output_type": "stream",
     "text": [
      "\n",
      "          \n",
      "*        *\n",
      "**      **\n",
      "***    ***\n",
      "****  ****\n",
      "**********\n",
      "**********\n",
      "****  ****\n",
      "***    ***\n",
      "**      **\n",
      "*        *\n",
      "          "
     ]
    }
   ],
   "source": [
    "size = 5\n",
    "for i in range(0,size+1):\n",
    "    print(\"\")\n",
    "    for k in range(0,i):\n",
    "        print(\"*\", end=\"\")\n",
    "    for j in range(0,size - i):\n",
    "        print(\" \", end=\" \")\n",
    "    for k in range(0,i):\n",
    "        print(\"*\", end=\"\")\n",
    "for i in range(0,size+1):\n",
    "    print(\"\")\n",
    "    for k in range(0,size - i):\n",
    "        print(\"*\", end=\"\")\n",
    "    for j in range(0,i):\n",
    "        print(\" \", end=\" \")\n",
    "    for k in range(0,size - i):\n",
    "        print(\"*\", end=\"\")"
   ]
  },
  {
   "cell_type": "code",
   "execution_count": 68,
   "metadata": {},
   "outputs": [
    {
     "name": "stdout",
     "output_type": "stream",
     "text": [
      "\n",
      "          \n",
      "        *   \n",
      "      *   *   \n",
      "    *   *   *   \n",
      "  *   *   *   *   \n",
      "*   *   *   *   *   "
     ]
    }
   ],
   "source": [
    "size = 5\n",
    "for i in range(0,size+1):\n",
    "    print(\"\")\n",
    "    for k in range(0,size*2 - i*2):\n",
    "        print(\" \", end=\"\")\n",
    "    for j in range(0,i):\n",
    "        print(\"*\", end=\"   \")"
   ]
  },
  {
   "cell_type": "code",
   "execution_count": 82,
   "metadata": {
    "scrolled": true
   },
   "outputs": [
    {
     "name": "stdout",
     "output_type": "stream",
     "text": [
      "['The Holy Grail', 1975, 'Life of brain', 1979, 'Meaning of life', 1983]\n"
     ]
    }
   ],
   "source": [
    "movies = [\"The Holy Grail\", \"Life of brain\", \"Meaning of life\"]\n",
    "years = [1975,1979,1983]\n",
    "output = []\n",
    "for (movie, year) in zip(movies, years):\n",
    "    output.append(movie)\n",
    "    output.append(year)\n",
    "print(output)                       "
   ]
  },
  {
   "cell_type": "code",
   "execution_count": 92,
   "metadata": {},
   "outputs": [
    {
     "name": "stdout",
     "output_type": "stream",
     "text": [
      "Guess something 8\n",
      "Your guess is too high\n",
      "Guess something 5\n",
      "Your guess is too low\n",
      "Guess something 6\n",
      "Your guess is too low\n",
      "Guess something 7\n",
      "You guessed right!\n"
     ]
    }
   ],
   "source": [
    "import random\n",
    "com = random.randint(1,10)\n",
    "victory=0\n",
    "for i in range(0,6):\n",
    "    guess=int(input(\"Guess something \"))\n",
    "    if guess>com:\n",
    "        print(\"Your guess is too high\")\n",
    "    elif guess<com:\n",
    "        print(\"Your guess is too low\")\n",
    "    else:\n",
    "        print(\"You guessed right!\")\n",
    "        victory=1\n",
    "        break\n",
    "if victory==0:\n",
    "    print(\"Failed to guess! Better luck next time.\")"
   ]
  },
  {
   "cell_type": "code",
   "execution_count": 100,
   "metadata": {},
   "outputs": [
    {
     "name": "stdout",
     "output_type": "stream",
     "text": [
      "Enter year: 2004\n",
      "Leap year\n"
     ]
    }
   ],
   "source": [
    "year=int(input(\"Enter year: \"))\n",
    "if (year%4==0 and year%100!=0) or year%400==0:\n",
    "    print(\"Leap year\")\n",
    "else:\n",
    "    print(\"Not a leap year\")"
   ]
  }
 ],
 "metadata": {
  "kernelspec": {
   "display_name": "Python 3",
   "language": "python",
   "name": "python3"
  },
  "language_info": {
   "codemirror_mode": {
    "name": "ipython",
    "version": 3
   },
   "file_extension": ".py",
   "mimetype": "text/x-python",
   "name": "python",
   "nbconvert_exporter": "python",
   "pygments_lexer": "ipython3",
   "version": "3.7.3"
  }
 },
 "nbformat": 4,
 "nbformat_minor": 2
}
